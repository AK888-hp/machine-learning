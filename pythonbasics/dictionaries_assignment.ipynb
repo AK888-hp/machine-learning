{
 "cells": [
  {
   "cell_type": "markdown",
   "id": "c6795c95",
   "metadata": {},
   "source": [
    "### Assignment 1: Creating and Accessing Dictionaries\n",
    "\n",
    "Create a dictionary with the first 10 positive integers as keys and their squares as values. Print the dictionary.\n"
   ]
  },
  {
   "cell_type": "code",
   "execution_count": 2,
   "metadata": {},
   "outputs": [
    {
     "name": "stdout",
     "output_type": "stream",
     "text": [
      "{1: 1, 2: 4, 3: 9, 4: 16, 5: 25, 6: 36, 7: 49, 8: 64, 9: 81, 10: 100}\n"
     ]
    }
   ],
   "source": [
    "squares={x:x**2 for x in range(1,11)}\n",
    "print(squares)"
   ]
  },
  {
   "cell_type": "markdown",
   "id": "9d97c360",
   "metadata": {},
   "source": [
    "\n",
    "### Assignment 2: Accessing Dictionary Elements\n",
    "\n",
    "Print the value of the key 5 and the keys of the dictionary created in Assignment 1.\n"
   ]
  },
  {
   "cell_type": "code",
   "execution_count": 8,
   "id": "1127bfb6",
   "metadata": {},
   "outputs": [
    {
     "name": "stdout",
     "output_type": "stream",
     "text": [
      "25\n",
      "[1, 2, 3, 4, 5, 6, 7, 8, 9, 10]\n"
     ]
    }
   ],
   "source": [
    "print(squares[5])\n",
    "print(list(squares.keys()))"
   ]
  },
  {
   "cell_type": "markdown",
   "id": "7e93fe4c",
   "metadata": {},
   "source": [
    "### Assignment 3: Dictionary Methods\n",
    "\n",
    "Add a new key-value pair (11, 121) to the dictionary created in Assignment 1 and then remove the key-value pair with key 1. Print the modified dictionary.\n"
   ]
  },
  {
   "cell_type": "code",
   "execution_count": 14,
   "id": "645579cb",
   "metadata": {},
   "outputs": [
    {
     "name": "stdout",
     "output_type": "stream",
     "text": [
      "{2: 4, 3: 9, 4: 16, 5: 25, 6: 36, 7: 49, 8: 64, 9: 81, 10: 100, 11: 121}\n"
     ]
    }
   ],
   "source": [
    "squares.update({11:121})\n",
    "squares.pop(1)\n",
    "print(squares)"
   ]
  },
  {
   "cell_type": "markdown",
   "id": "97ed55b6",
   "metadata": {},
   "source": [
    "### Assignment 4: Iterating Over Dictionaries\n",
    "\n",
    "Iterate over the dictionary created in Assignment 1 and print each key-value pair.\n"
   ]
  },
  {
   "cell_type": "code",
   "execution_count": 18,
   "id": "c108f5a6",
   "metadata": {},
   "outputs": [
    {
     "name": "stdout",
     "output_type": "stream",
     "text": [
      "sqaure of 2 is 4\n",
      "sqaure of 3 is 9\n",
      "sqaure of 4 is 16\n",
      "sqaure of 5 is 25\n",
      "sqaure of 6 is 36\n",
      "sqaure of 7 is 49\n",
      "sqaure of 8 is 64\n",
      "sqaure of 9 is 81\n",
      "sqaure of 10 is 100\n",
      "sqaure of 11 is 121\n"
     ]
    }
   ],
   "source": [
    "for key,value in squares.items():\n",
    "    print(f\"sqaure of {key} is {value}\")"
   ]
  },
  {
   "cell_type": "markdown",
   "id": "c1590882",
   "metadata": {},
   "source": [
    "\n",
    "### Assignment 5: Dictionary Comprehensions\n",
    "\n",
    "Create a new dictionary containing the cubes of the first 10 positive integers using a dictionary comprehension. Print the new dictionary.\n",
    "\n"
   ]
  },
  {
   "cell_type": "code",
   "execution_count": 19,
   "id": "b4b5fab6",
   "metadata": {},
   "outputs": [
    {
     "name": "stdout",
     "output_type": "stream",
     "text": [
      "{1: 1, 2: 8, 3: 27, 4: 64, 5: 125, 6: 216, 7: 343, 8: 512, 9: 729, 10: 1000}\n"
     ]
    }
   ],
   "source": [
    "cubes={x:x**3 for x in range(1,11)}\n",
    "print(cubes)"
   ]
  },
  {
   "cell_type": "markdown",
   "id": "fcd148d1",
   "metadata": {},
   "source": [
    "### Assignment 6: Merging Dictionaries\n",
    "\n",
    "Create two dictionaries: one with keys as the first 5 positive integers and values as their squares, and another with keys as the next 5 positive integers and values as their squares. Merge these dictionaries into a single dictionary and print it.\n"
   ]
  },
  {
   "cell_type": "code",
   "execution_count": 28,
   "id": "dcba80dc",
   "metadata": {},
   "outputs": [
    {
     "name": "stdout",
     "output_type": "stream",
     "text": [
      "{1: 1, 2: 4, 3: 9, 4: 16, 5: 25, 6: 36, 7: 49, 8: 64, 9: 81, 10: 100}\n"
     ]
    }
   ],
   "source": [
    "squares1={x:x**2 for x in range(1,6)}\n",
    "squares2={x:x**2 for x in range(6,11)}\n",
    "squares1.update(squares2)\n",
    "print(squares1)"
   ]
  },
  {
   "cell_type": "markdown",
   "id": "73763f21",
   "metadata": {},
   "source": [
    "### Assignment 7: Nested Dictionaries\n",
    "\n",
    "Create a nested dictionary representing a student with keys 'name', 'age', 'grades', where 'grades' is another dictionary with keys 'math', 'science', and 'english'. Print the nested dictionary.\n"
   ]
  },
  {
   "cell_type": "code",
   "execution_count": 31,
   "id": "821abc86",
   "metadata": {},
   "outputs": [
    {
     "name": "stdout",
     "output_type": "stream",
     "text": [
      "{'name': 'Kishore', 'age': 20, 'grades': {'math': 100, 'science': 90, 'english': 50}}\n"
     ]
    }
   ],
   "source": [
    "student={\n",
    "    \"name\":\"Kishore\",\n",
    "    \"age\":20,\n",
    "    \"grades\":{\n",
    "        \"math\":100,\n",
    "        \"science\":90,\n",
    "        \"english\":50\n",
    "     }}\n",
    "print(student)"
   ]
  },
  {
   "cell_type": "markdown",
   "id": "b0d7ce22",
   "metadata": {},
   "source": [
    "### Assignment 8: Dictionary of Lists\n",
    "\n",
    "Create a dictionary where the keys are the first 5 positive integers and the values are lists containing the first 5 multiples of the key. Print the dictionary.\n"
   ]
  },
  {
   "cell_type": "code",
   "execution_count": 37,
   "id": "43ac44ec",
   "metadata": {},
   "outputs": [
    {
     "name": "stdout",
     "output_type": "stream",
     "text": [
      "{1: [1, 2, 3, 4, 5], 2: [2, 4, 6, 8, 10], 3: [3, 6, 9, 12, 15], 4: [4, 8, 12, 16, 20], 5: [5, 10, 15, 20, 25]}\n"
     ]
    }
   ],
   "source": [
    "multiples={x:[y*x for y in range(1,6)]for x in range(1,6)}\n",
    "print(multiples)"
   ]
  },
  {
   "cell_type": "markdown",
   "id": "af141d6f",
   "metadata": {},
   "source": [
    "### Assignment 9: Dictionary of Tuples\n",
    "\n",
    "Create a dictionary where the keys are the first 5 positive integers and the values are tuples containing the key and its square. Print the dictionary.\n"
   ]
  },
  {
   "cell_type": "code",
   "execution_count": 39,
   "id": "4be81526",
   "metadata": {},
   "outputs": [
    {
     "name": "stdout",
     "output_type": "stream",
     "text": [
      "{1: (1, 1), 2: (2, 4), 3: (3, 9), 4: (4, 16), 5: (5, 25)}\n"
     ]
    }
   ],
   "source": [
    "square_tuple={x:(x,x**2) for x in range(1,6)}\n",
    "print(square_tuple)"
   ]
  },
  {
   "cell_type": "markdown",
   "id": "e7d45497",
   "metadata": {},
   "source": [
    "### Assignment 10: Dictionary and List Conversion\n",
    "\n",
    "Create a dictionary with the first 5 positive integers as keys and their squares as values. Convert the dictionary to a list of tuples and print it."
   ]
  },
  {
   "cell_type": "code",
   "execution_count": 47,
   "id": "0d3c7d00",
   "metadata": {},
   "outputs": [
    {
     "name": "stdout",
     "output_type": "stream",
     "text": [
      "[(1, 1), (2, 4), (3, 9), (4, 16), (5, 25)]\n"
     ]
    }
   ],
   "source": [
    "adict={x:x**2 for x in range(1,6)}\n",
    "lst=[]\n",
    "for key,value in adict.items():\n",
    "    tup=(key,value)\n",
    "    lst.append(tup)\n",
    "print(lst)"
   ]
  },
  {
   "cell_type": "markdown",
   "id": "35b48267",
   "metadata": {},
   "source": [
    "### Assignment 11: Dictionary Filtering\n",
    "\n",
    "Create a dictionary with the first 10 positive integers as keys and their squares as values. Create a new dictionary containing only the key-value pairs where the key is even. Print the new dictionary.\n"
   ]
  },
  {
   "cell_type": "code",
   "execution_count": 52,
   "id": "1e1c7431",
   "metadata": {},
   "outputs": [
    {
     "name": "stdout",
     "output_type": "stream",
     "text": [
      "{1: 1, 2: 4, 3: 9, 4: 16, 5: 25, 6: 36, 7: 49, 8: 64, 9: 81, 10: 100}\n",
      "{2: 4, 4: 16, 6: 36, 8: 64, 10: 100}\n"
     ]
    }
   ],
   "source": [
    "first_dic={x:x**2 for x in range(1,11)}\n",
    "print(first_dic)\n",
    "new_dic={x:x**2 for x in first_dic.keys() if x%2==0}\n",
    "print(new_dic)"
   ]
  },
  {
   "cell_type": "markdown",
   "id": "fd045e9f",
   "metadata": {},
   "source": [
    "### Assignment 12: Dictionary Key and Value Transformation\n",
    "\n",
    "Create a dictionary with the first 5 positive integers as keys and their squares as values. Create a new dictionary with keys and values swapped. Print the new dictionary."
   ]
  },
  {
   "cell_type": "code",
   "execution_count": 55,
   "id": "31ffaedb",
   "metadata": {},
   "outputs": [
    {
     "name": "stdout",
     "output_type": "stream",
     "text": [
      "{1: 1, 2: 4, 3: 9, 4: 16, 5: 25}\n",
      "{1: 1, 4: 2, 9: 3, 16: 4, 25: 5}\n"
     ]
    }
   ],
   "source": [
    "dict={x:x**2 for x in range(1,6)}\n",
    "print(dict)\n",
    "newdict={}\n",
    "for key,values in dict.items():\n",
    "    newdict.update({values:key})\n",
    "print(newdict)"
   ]
  },
  {
   "cell_type": "markdown",
   "id": "201a29ec",
   "metadata": {},
   "source": [
    "### Assignment 13: Default Dictionary\n",
    "\n",
    "Create a default dictionary where each key has a default value of an empty list. Add some elements to the lists and print the dictionary.\n"
   ]
  },
  {
   "cell_type": "code",
   "execution_count": 56,
   "id": "e3645599",
   "metadata": {},
   "outputs": [],
   "source": [
    "pass"
   ]
  },
  {
   "cell_type": "markdown",
   "id": "b92273f0",
   "metadata": {},
   "source": [
    "### Assignment 14: Counting with Dictionaries\n",
    "\n",
    "Write a function that takes a string and returns a dictionary with the count of each character in the string. Print the dictionary.\n"
   ]
  },
  {
   "cell_type": "code",
   "execution_count": 65,
   "id": "24c8ddbf",
   "metadata": {},
   "outputs": [
    {
     "name": "stdout",
     "output_type": "stream",
     "text": [
      "{'h': 1, 'e': 3, 'l': 4, 'o': 3, ' ': 2, 'w': 2, 'r': 1, 'd': 1, '!': 1, 'c': 1, 'm': 1}\n"
     ]
    }
   ],
   "source": [
    "def count_frequency(string):\n",
    "    new_string=list(string.lower())\n",
    "    dict={}\n",
    "    for i in new_string:\n",
    "        if i in dict:\n",
    "            dict[i]+=1\n",
    "        else:\n",
    "            dict.update({i:1})\n",
    "    return dict\n",
    "\n",
    "dictionary=count_frequency(\"Hello World! Welcome\")\n",
    "print(dictionary)\n",
    "        "
   ]
  },
  {
   "cell_type": "markdown",
   "id": "a0be29e0",
   "metadata": {},
   "source": [
    "### Assignment 15: Dictionary and JSON\n",
    "\n",
    "Create a dictionary representing a book with keys 'title', 'author', 'year', and 'genre'. Convert the dictionary to a JSON string and print it."
   ]
  },
  {
   "cell_type": "code",
   "execution_count": 67,
   "id": "8abdcbe2",
   "metadata": {},
   "outputs": [
    {
     "name": "stdout",
     "output_type": "stream",
     "text": [
      "{\"title\": \"Harry Potter\", \"author\": \"J.K. Rowling\", \"year\": \"1990\", \"genre\": \"Thriller\"}\n"
     ]
    }
   ],
   "source": [
    "import json\n",
    "dict={\"title\":\"Harry Potter\",\"author\":\"J.K. Rowling\",\"year\":\"1990\",\"genre\":\"Thriller\"}\n",
    "json_string=json.dumps(dict)\n",
    "print(json_string)"
   ]
  }
 ],
 "metadata": {
  "kernelspec": {
   "display_name": "Python 3",
   "language": "python",
   "name": "python3"
  },
  "language_info": {
   "codemirror_mode": {
    "name": "ipython",
    "version": 3
   },
   "file_extension": ".py",
   "mimetype": "text/x-python",
   "name": "python",
   "nbconvert_exporter": "python",
   "pygments_lexer": "ipython3",
   "version": "3.10.0"
  }
 },
 "nbformat": 4,
 "nbformat_minor": 5
}
