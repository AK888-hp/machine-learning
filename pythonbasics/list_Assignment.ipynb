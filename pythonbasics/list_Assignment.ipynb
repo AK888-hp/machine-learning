{
 "cells": [
  {
   "cell_type": "markdown",
   "metadata": {},
   "source": [
    "# Module 3: Data Structures Assignments\n",
    "## Lesson 3.1: Lists\n",
    "### Assignment 1: Creating and Accessing Lists\n",
    "\n",
    "Create a list of the first 20 positive integers. Print the list.\n",
    "\n",
    "### Assignment 2: Accessing List Elements\n",
    "\n",
    "Print the first, middle, and last elements of the list created in Assignment 1.\n",
    "\n",
    "### Assignment 3: List Slicing\n",
    "\n",
    "Print the first five elements, the last five elements, and the elements from index 5 to 15 of the list created in Assignment 1.\n",
    "\n",
    "### Assignment 4: List Comprehensions\n",
    "\n",
    "Create a new list containing the squares of the first 10 positive integers using a list comprehension. Print the new list.\n",
    "\n",
    "### Assignment 5: Filtering Lists\n",
    "\n",
    "Create a new list containing only the even numbers from the list created in Assignment 1 using a list comprehension. Print the new list.\n",
    "\n",
    "### Assignment 6: List Methods\n",
    "\n",
    "Create a list of random numbers and sort it in ascending and descending order. Remove the duplicates from the list and print the modified list.\n",
    "\n",
    "### Assignment 7: Nested Lists\n",
    "\n",
    "Create a nested list representing a 3x3 matrix and print the matrix. Access and print the element at the second row and third column.\n",
    "\n",
    "### Assignment 8: List of Dictionaries\n",
    "\n",
    "Create a list of dictionaries where each dictionary represents a student with keys 'name' and 'score'. Sort the list of dictionaries by the 'score' in descending order and print the sorted list.\n",
    "\n",
    "### Assignment 9: Matrix Transposition\n",
    "\n",
    "Write a function that takes a 3x3 matrix (nested list) as input and returns its transpose. Print the original and transposed matrices.\n",
    "\n",
    "### Assignment 10: Flattening a Nested List\n",
    "\n",
    "Write a function that takes a nested list and flattens it into a single list. Print the original and flattened lists.\n",
    "\n",
    "### Assignment 11: List Manipulation\n",
    "\n",
    "Create a list of the first 10 positive integers. Remove the elements at indices 2, 4, and 6, and insert the element '99' at index 5. Print the modified list.\n",
    "\n",
    "### Assignment 12: List Zipping\n",
    "\n",
    "Create two lists of the same length. Use the `zip` function to combine these lists into a list of tuples and print the result.\n",
    "\n",
    "### Assignment 13: List Reversal\n",
    "\n",
    "Write a function that takes a list and returns a new list with the elements in reverse order. Print the original and reversed lists.\n",
    "\n",
    "### Assignment 14: List Rotation\n",
    "\n",
    "Write a function that rotates a list by n positions. Print the original and rotated lists.\n",
    "\n",
    "### Assignment 15: List Intersection\n",
    "\n",
    "Write a function that takes two lists and returns a new list containing only the elements that are present in both lists. Print the intersected list."
   ]
  },
  {
   "cell_type": "code",
   "execution_count": 1,
   "metadata": {},
   "outputs": [
    {
     "name": "stdout",
     "output_type": "stream",
     "text": [
      "[1, 2, 3, 4, 5, 6, 7, 8, 9, 10, 11, 12, 13, 14, 15, 16, 17, 18, 19, 20]\n"
     ]
    }
   ],
   "source": [
    "a=[i for i in range(1,21)]\n",
    "print(a)"
   ]
  },
  {
   "cell_type": "code",
   "execution_count": 7,
   "id": "89c921c0",
   "metadata": {},
   "outputs": [
    {
     "name": "stdout",
     "output_type": "stream",
     "text": [
      "1 10 20\n"
     ]
    }
   ],
   "source": [
    "print(a[0],len(a)//2,len(a),)"
   ]
  },
  {
   "cell_type": "code",
   "execution_count": 8,
   "id": "4e1bb642",
   "metadata": {},
   "outputs": [
    {
     "name": "stdout",
     "output_type": "stream",
     "text": [
      "[1, 2, 3, 4, 5] [16, 17, 18, 19, 20] [6, 7, 8, 9, 10, 11, 12, 13, 14, 15]\n"
     ]
    }
   ],
   "source": [
    "print(a[:5],a[len(a)-5:],a[5:15])"
   ]
  },
  {
   "cell_type": "code",
   "execution_count": 9,
   "id": "a82f94f3",
   "metadata": {},
   "outputs": [
    {
     "name": "stdout",
     "output_type": "stream",
     "text": [
      "[1, 4, 9, 16, 25, 36, 49, 64, 81, 100]\n"
     ]
    }
   ],
   "source": [
    "new_list=[i**2 for i in range(1,11)]\n",
    "print(new_list)"
   ]
  },
  {
   "cell_type": "code",
   "execution_count": 15,
   "id": "6b8abc7e",
   "metadata": {},
   "outputs": [
    {
     "name": "stdout",
     "output_type": "stream",
     "text": [
      "[2, 4, 6, 8, 10, 12, 14, 16, 18, 20]\n"
     ]
    }
   ],
   "source": [
    "even_list=[i for i in a if i%2==0]\n",
    "print(even_list)"
   ]
  },
  {
   "cell_type": "code",
   "execution_count": 22,
   "id": "5bbee943",
   "metadata": {},
   "outputs": [
    {
     "name": "stdout",
     "output_type": "stream",
     "text": [
      "[15, 18, 63, 65, 6, 49, 100, 2, 81]\n",
      "[2, 6, 15, 18, 49, 63, 65, 81, 100]\n",
      "[100, 81, 65, 63, 49, 18, 15, 6, 2]\n"
     ]
    }
   ],
   "source": [
    "import random\n",
    "random_list=[random.randint(1,100) for i in range(1,10)]\n",
    "unique_list=[]\n",
    "for i in random_list:\n",
    "    if i not in unique_list:\n",
    "        unique_list.append(i)\n",
    "unique_list.sort()\n",
    "print(random_list)\n",
    "print(unique_list)\n",
    "print(unique_list[::-1])\n"
   ]
  },
  {
   "cell_type": "code",
   "execution_count": 36,
   "id": "38fcac92",
   "metadata": {},
   "outputs": [
    {
     "name": "stdout",
     "output_type": "stream",
     "text": [
      "[[2, 3, 4], [5, 6, 7], [8, 9, 0]]\n",
      "7\n"
     ]
    }
   ],
   "source": [
    "a=[[0 for j in range(3)] for i in range(3)]\n",
    "for i in range(3):\n",
    "    for j in range(3):\n",
    "        a[i][j]=int(input(f\"enter number for i:{i} and  j:{j}\"))\n",
    "print(a)\n",
    "print(a[1][2])"
   ]
  },
  {
   "cell_type": "code",
   "execution_count": 13,
   "id": "964efd15",
   "metadata": {},
   "outputs": [
    {
     "name": "stdout",
     "output_type": "stream",
     "text": [
      "[{'name': 'Ak', 'score': 20}, {'name': 'Krishna', 'score': 90}, {'name': 'Anantha Krishna', 'score': 80}]\n",
      "[{'name': 'Ak', 'score': 20}, {'name': 'Anantha Krishna', 'score': 80}, {'name': 'Krishna', 'score': 90}]\n"
     ]
    }
   ],
   "source": [
    "lst=[{\"name\":\"Ak\", \"score\":20},\n",
    "     {\"name\":\"Krishna\", \"score\":90},\n",
    "     {\"name\":\"Anantha Krishna\", \"score\":80 }\n",
    "     ]\n",
    "print(lst)\n",
    "lst.sort(key=lambda x:x[\"score\"])\n",
    "print(lst)"
   ]
  },
  {
   "cell_type": "code",
   "execution_count": 21,
   "id": "31d46492",
   "metadata": {},
   "outputs": [
    {
     "name": "stdout",
     "output_type": "stream",
     "text": [
      "The matrix is:\n",
      "2 3 4 \n",
      "5 6 7 \n",
      "8 9 1 \n",
      "transpose of this matrix is:\n",
      "2 5 8 \n",
      "3 6 9 \n",
      "4 7 1 \n"
     ]
    }
   ],
   "source": [
    "marix=list()\n",
    "tanspose=list()\n",
    "matrix=[[0 for j in range(3)] for i in range(3)]\n",
    "transpose=[[0 for j in range(3)] for i in range(3)]\n",
    "for  i in range(3):\n",
    "    for j in range(3):\n",
    "        matrix[i][j]=int(input(\"enter the numbers\"))\n",
    "print(\"The matrix is:\")\n",
    "for i in range(3):\n",
    "    for j in range(3):\n",
    "        print(matrix[i][j],end=\" \")\n",
    "    print()\n",
    "print(\"transpose of this matrix is:\")\n",
    "for i in range(3):\n",
    "    for j in range(3):\n",
    "        transpose[i][j]=matrix[j][i]\n",
    "for i in range(3):\n",
    "    for j in range(3):\n",
    "        print(transpose[i][j],end=\" \")\n",
    "    print()\n"
   ]
  },
  {
   "cell_type": "code",
   "execution_count": 29,
   "id": "b7792f03",
   "metadata": {},
   "outputs": [
    {
     "name": "stdout",
     "output_type": "stream",
     "text": [
      "2 3 1 \n",
      "6 5 4 \n",
      "8 7 9 \n",
      "[1, 2, 3, 4, 5, 6, 7, 8, 9]\n"
     ]
    }
   ],
   "source": [
    "nested_list=[[0 for j in range(3)] for i in range(3)]\n",
    "lst=list()\n",
    "for i in range(3):\n",
    "    for j in range(3):\n",
    "        nested_list[i][j]=int(input(\"enter element:\"))\n",
    "for i in range(3):\n",
    "    for j in range(3):\n",
    "        print(nested_list[i][j],end=\" \")\n",
    "    print()\n",
    "for i in range(3):\n",
    "    for j in range(3):\n",
    "        lst.append(nested_list[i][j])\n",
    "lst.sort()\n",
    "print(lst)"
   ]
  },
  {
   "cell_type": "code",
   "execution_count": 34,
   "id": "eff9cecd",
   "metadata": {},
   "outputs": [
    {
     "name": "stdout",
     "output_type": "stream",
     "text": [
      "[1, 2, 3, 4, 5, 6, 7, 8, 9, 10]\n",
      "[1, 2, 4, 6, 8, 9, 10]\n",
      "[1, 2, 4, 6, 8, 99, 9, 10]\n"
     ]
    }
   ],
   "source": [
    "lst=[i for i in range(1,11)]\n",
    "print(lst)\n",
    "del lst[2:7:2]\n",
    "print(lst)\n",
    "lst.insert(5,99)\n",
    "print(lst)"
   ]
  },
  {
   "cell_type": "code",
   "execution_count": 36,
   "id": "4885fba7",
   "metadata": {},
   "outputs": [
    {
     "name": "stdout",
     "output_type": "stream",
     "text": [
      "[(1, 2), (2, 3), (3, 4)]\n"
     ]
    }
   ],
   "source": [
    "lst1=[1,2,3]\n",
    "lst2=[2,3,4]\n",
    "zipped_list=zip(lst1,lst2)\n",
    "print(list(zipped_list))"
   ]
  },
  {
   "cell_type": "code",
   "execution_count": 43,
   "id": "83e01c24",
   "metadata": {},
   "outputs": [
    {
     "name": "stdout",
     "output_type": "stream",
     "text": [
      "[0, 9, 8, 7, 6, 5, 4, 3, 2, 1]\n"
     ]
    }
   ],
   "source": [
    "def  reverse(lst):\n",
    "    reversed_list=lst[::-1]\n",
    "    return reversed_list\n",
    "\n",
    "list1=[]\n",
    "for i  in range(10):\n",
    "    list1.append(int(input(\"enter the number\")))\n",
    "list1=reverse(list1)\n",
    "print(list1)"
   ]
  },
  {
   "cell_type": "code",
   "execution_count": null,
   "id": "900c46fc",
   "metadata": {},
   "outputs": [],
   "source": []
  },
  {
   "cell_type": "code",
   "execution_count": null,
   "id": "cd780628",
   "metadata": {},
   "outputs": [],
   "source": []
  }
 ],
 "metadata": {
  "kernelspec": {
   "display_name": "Python 3",
   "language": "python",
   "name": "python3"
  },
  "language_info": {
   "codemirror_mode": {
    "name": "ipython",
    "version": 3
   },
   "file_extension": ".py",
   "mimetype": "text/x-python",
   "name": "python",
   "nbconvert_exporter": "python",
   "pygments_lexer": "ipython3",
   "version": "3.10.0"
  }
 },
 "nbformat": 4,
 "nbformat_minor": 5
}
