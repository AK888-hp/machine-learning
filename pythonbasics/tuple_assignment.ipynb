{
 "cells": [
  {
   "cell_type": "markdown",
   "id": "6cade624",
   "metadata": {},
   "source": [
    "# Module 3: Data Structures Assignments\n",
    "## Lesson 3.2: Tuples\n",
    "### Assignment 1: Creating and Accessing Tuples\n",
    "\n",
    "Create a tuple with the first 10 positive integers. Print the tuple.\n",
    "\n",
    "### Assignment 2: Accessing Tuple Elements\n",
    "\n",
    "Print the first, middle, and last elements of the tuple created in Assignment 1.\n",
    "\n",
    "### Assignment 3: Tuple Slicing\n",
    "\n",
    "Print the first three elements, the last three elements, and the elements from index 2 to 5 of the tuple created in Assignment 1.\n",
    "\n",
    "### Assignment 4: Nested Tuples\n",
    "\n",
    "Create a nested tuple representing a 3x3 matrix and print the matrix. Access and print the element at the second row and third column.\n",
    "\n",
    "### Assignment 5: Tuple Concatenation\n",
    "\n",
    "Concatenate two tuples: (1, 2, 3) and (4, 5, 6). Print the resulting tuple.\n",
    "\n",
    "### Assignment 6: Tuple Methods\n",
    "\n",
    "Create a tuple with duplicate elements and count the occurrences of an element. Find the index of the first occurrence of an element in the tuple.\n",
    "\n",
    "### Assignment 7: Unpacking Tuples\n",
    "\n",
    "Create a tuple with 5 elements and unpack it into 5 variables. Print the variables.\n",
    "\n",
    "### Assignment 8: Tuple Conversion\n",
    "\n",
    "Convert a list of the first 5 positive integers to a tuple. Print the tuple.\n",
    "\n",
    "### Assignment 9: Tuple of Tuples\n",
    "\n",
    "Create a tuple containing 3 tuples, each with 3 elements. Print the tuple of tuples.\n",
    "\n",
    "### Assignment 10: Tuple and List\n",
    "\n",
    "Create a tuple with the first 5 positive integers. Convert it to a list, append the number 6, and convert it back to a tuple. Print the resulting tuple.\n",
    "\n",
    "### Assignment 11: Tuple and String\n",
    "\n",
    "Create a tuple with the characters of a string. Join the tuple elements into a single string. Print the string.\n",
    "\n",
    "### Assignment 12: Tuple and Dictionary\n",
    "\n",
    "Create a dictionary with tuple keys and integer values. Print the dictionary.\n",
    "\n",
    "### Assignment 13: Nested Tuple Iteration\n",
    "\n",
    "Create a nested tuple and iterate over the elements, printing each element.\n",
    "\n",
    "### Assignment 14: Tuple and Set\n",
    "\n",
    "Create a tuple with duplicate elements. Convert it to a set to remove duplicates and print the resulting set.\n",
    "\n",
    "### Assignment 15: Tuple Functions\n",
    "\n",
    "Write functions that take a tuple and return the minimum, maximum, and sum of the elements. Print the results for a sample tuple."
   ]
  },
  {
   "cell_type": "code",
   "execution_count": 2,
   "id": "e2c09d14",
   "metadata": {},
   "outputs": [
    {
     "name": "stdout",
     "output_type": "stream",
     "text": [
      "(1, 2, 3, 4, 5, 6, 7, 8, 9, 10)\n"
     ]
    }
   ],
   "source": [
    "#1\n",
    "numbers=tuple(i for i in range(1,11))\n",
    "print(numbers)"
   ]
  },
  {
   "cell_type": "code",
   "execution_count": 6,
   "metadata": {},
   "outputs": [
    {
     "name": "stdout",
     "output_type": "stream",
     "text": [
      "1 10 5\n"
     ]
    }
   ],
   "source": [
    "#2\n",
    "print(numbers[0],numbers[len(numbers)-1],numbers[int((len(numbers)-1)/2)])"
   ]
  },
  {
   "cell_type": "code",
   "execution_count": 7,
   "id": "379e4e4b",
   "metadata": {},
   "outputs": [
    {
     "name": "stdout",
     "output_type": "stream",
     "text": [
      "(1, 2, 3) (8, 9, 10) (3, 4, 5)\n"
     ]
    }
   ],
   "source": [
    "# 3\n",
    "print(numbers[:3],numbers[len(numbers)-3:],numbers[2:5])"
   ]
  },
  {
   "cell_type": "code",
   "execution_count": 14,
   "id": "cc68aeb6",
   "metadata": {},
   "outputs": [
    {
     "name": "stdout",
     "output_type": "stream",
     "text": [
      "1 \t2 \t3 \t\n",
      "2 \t3 \t4 \t\n",
      "3 \t4 \t5 \t\n",
      "4\n"
     ]
    }
   ],
   "source": [
    "# 4\n",
    "matrix=((1,2,3),(2,3,4),(3,4,5))\n",
    "for i in matrix:\n",
    "    for j in i:\n",
    "        print(j,\"\\t\",end=\"\")\n",
    "    print()\n",
    "print(matrix[1][2])"
   ]
  },
  {
   "cell_type": "code",
   "execution_count": 15,
   "id": "dbc0ff98",
   "metadata": {},
   "outputs": [
    {
     "name": "stdout",
     "output_type": "stream",
     "text": [
      "(1, 2, 3, 4, 5, 6)\n"
     ]
    }
   ],
   "source": [
    "# 5\n",
    "tup1=(1,2,3)\n",
    "tup2=(4,5,6)\n",
    "print(tup1+tup2)"
   ]
  },
  {
   "cell_type": "code",
   "execution_count": 17,
   "id": "423dbbc7",
   "metadata": {},
   "outputs": [
    {
     "name": "stdout",
     "output_type": "stream",
     "text": [
      "5\n",
      "1\n"
     ]
    }
   ],
   "source": [
    "# 6\n",
    "tup=(2,3,4,3,2,4,5,3,6,3,4,2,1,5,6,4,3)\n",
    "print(tup.count(3))\n",
    "print(tup.index(3))"
   ]
  },
  {
   "cell_type": "code",
   "execution_count": 21,
   "id": "476bd604",
   "metadata": {},
   "outputs": [
    {
     "name": "stdout",
     "output_type": "stream",
     "text": [
      "1 2 3 4 5\n",
      "1\n",
      "5\n"
     ]
    }
   ],
   "source": [
    "# 7\n",
    "tup=(1,2,3,4,5)\n",
    "e1,e2,e3,e4,e5=tup\n",
    "print(e1,e2,e3,e4,e5)\n",
    "print(e1)\n",
    "print(e5)"
   ]
  },
  {
   "cell_type": "code",
   "execution_count": 25,
   "id": "4a741a77",
   "metadata": {},
   "outputs": [
    {
     "name": "stdout",
     "output_type": "stream",
     "text": [
      "(1, 2, 3, 4, 5)\n"
     ]
    }
   ],
   "source": [
    "# 8\n",
    "num=[1,2,3,4,5]\n",
    "tup=tuple(num)\n",
    "print(tup)"
   ]
  },
  {
   "cell_type": "code",
   "execution_count": 27,
   "id": "54de6a06",
   "metadata": {},
   "outputs": [
    {
     "name": "stdout",
     "output_type": "stream",
     "text": [
      "((1, 2, 3), (2, 3, 4), (3, 4, 5))\n"
     ]
    }
   ],
   "source": [
    "# 9\n",
    "matrix=((1,2,3),(2,3,4),(3,4,5))\n",
    "print(matrix)"
   ]
  },
  {
   "cell_type": "code",
   "execution_count": 29,
   "id": "25ab575e",
   "metadata": {},
   "outputs": [
    {
     "name": "stdout",
     "output_type": "stream",
     "text": [
      "(1, 2, 3, 4, 5, 6)\n"
     ]
    }
   ],
   "source": [
    "\n",
    "### Assignment 10: Tuple and List\n",
    "\n",
    "# Create a tuple with the first 5 positive integers. Convert it to a list, append the number 6, and convert it back to a tuple. Print the resulting tuple.\n",
    "tup=(1,2,3,4,5)\n",
    "tup=list(tup)\n",
    "tup.append(6)\n",
    "tup=tuple(tup)\n",
    "print(tup)"
   ]
  },
  {
   "cell_type": "code",
   "execution_count": 38,
   "id": "9456d20c",
   "metadata": {},
   "outputs": [
    {
     "name": "stdout",
     "output_type": "stream",
     "text": [
      "Hello\n"
     ]
    }
   ],
   "source": [
    "### Assignment 11: Tuple and String\n",
    "\n",
    "# Create a tuple with the characters of a string. Join the tuple elements into a single string. Print the string.\n",
    "string_chars=(\"H\",\"e\",\"l\",\"l\",\"o\")\n",
    "my_string=''.join(string_chars)\n",
    "print(my_string)"
   ]
  },
  {
   "cell_type": "code",
   "execution_count": 41,
   "id": "9bffd335",
   "metadata": {},
   "outputs": [
    {
     "name": "stdout",
     "output_type": "stream",
     "text": [
      "{(1, 2, 3): 6, (2, 3, 4): 9, (3, 4, 5): 12}\n"
     ]
    }
   ],
   "source": [
    "\n",
    "### Assignment 12: Tuple and Dictionary\n",
    "\n",
    "# Create a dictionary with tuple keys and integer values. Print the dictionary.\n",
    "dict={(1,2,3):6,(2,3,4):9,(3,4,5):12}\n",
    "print(dict)"
   ]
  },
  {
   "cell_type": "code",
   "execution_count": 44,
   "id": "e2f446ac",
   "metadata": {},
   "outputs": [
    {
     "name": "stdout",
     "output_type": "stream",
     "text": [
      "123\n",
      "mno\n",
      "230\n"
     ]
    }
   ],
   "source": [
    "### Assignment 13: Nested Tuple Iteration\n",
    "\n",
    "# Create a nested tuple and iterate over the elements, printing each element.\n",
    "tup=((1,2,3),(\"m\",\"n\",\"o\"),(2,\"3\",\"0\"))\n",
    "for i in tup:\n",
    "    for j in i:\n",
    "        print(j,end='')\n",
    "    print()"
   ]
  },
  {
   "cell_type": "code",
   "execution_count": 45,
   "id": "29f57c92",
   "metadata": {},
   "outputs": [
    {
     "name": "stdout",
     "output_type": "stream",
     "text": [
      "{1, 2, 3, 4, 5, 6}\n"
     ]
    }
   ],
   "source": [
    "\n",
    "### Assignment 14: Tuple and Set\n",
    "\n",
    "# Create a tuple with duplicate elements. Convert it to a set to remove duplicates and print the resulting set.\n",
    "\n",
    "tup=(2,3,4,3,2,4,5,3,6,3,4,2,1,5,6,4,3)\n",
    "set1=set(tup)\n",
    "print(set1)"
   ]
  },
  {
   "cell_type": "code",
   "execution_count": 48,
   "id": "bb5797a6",
   "metadata": {},
   "outputs": [
    {
     "name": "stdout",
     "output_type": "stream",
     "text": [
      "90\n",
      "0\n",
      "450\n"
     ]
    }
   ],
   "source": [
    "\n",
    "### Assignment 15: Tuple Functions\n",
    "\n",
    "# Write functions that take a tuple and return the minimum, maximum, and sum of the elements. Print the results for a sample tuple.\n",
    "def maximum(tup):\n",
    "    max=tup[0]\n",
    "    for i in tup[1:]:\n",
    "        if i>max:\n",
    "            max=i\n",
    "    return max\n",
    "\n",
    "def minimum(tup):\n",
    "    min=tup[0]\n",
    "    for i in tup[1:]:\n",
    "        if i<min:\n",
    "            min=i\n",
    "    return min\n",
    "\n",
    "def sum_of_tuple(tup):\n",
    "    sum=0\n",
    "    for i in tup:\n",
    "        sum+=i\n",
    "    return sum\n",
    "\n",
    "tup=(i for i in range(100) if i%10==0)\n",
    "tup=tuple(tup)\n",
    "print(maximum(tup))\n",
    "print(minimum(tup))\n",
    "print(sum_of_tuple(tup))"
   ]
  },
  {
   "cell_type": "code",
   "execution_count": null,
   "id": "088b20ac",
   "metadata": {},
   "outputs": [],
   "source": []
  }
 ],
 "metadata": {
  "kernelspec": {
   "display_name": "Python 3",
   "language": "python",
   "name": "python3"
  },
  "language_info": {
   "codemirror_mode": {
    "name": "ipython",
    "version": 3
   },
   "file_extension": ".py",
   "mimetype": "text/x-python",
   "name": "python",
   "nbconvert_exporter": "python",
   "pygments_lexer": "ipython3",
   "version": "3.10.0"
  }
 },
 "nbformat": 4,
 "nbformat_minor": 5
}
