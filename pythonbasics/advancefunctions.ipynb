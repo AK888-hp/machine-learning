{
 "cells": [
  {
   "cell_type": "markdown",
   "metadata": {},
   "source": [
    "# Module 4: Advanced Functions Assignments\n",
    "## Lesson 4.1: Defining Functions\n",
    "\n",
    "### Assignment 1: Fibonacci Sequence with Memoization\n",
    "\n",
    "Define a recursive function to calculate the nth Fibonacci number using memoization. Test the function with different inputs.\n",
    "\n"
   ]
  },
  {
   "cell_type": "code",
   "execution_count": 3,
   "id": "80dd8303",
   "metadata": {},
   "outputs": [
    {
     "name": "stdout",
     "output_type": "stream",
     "text": [
      "0\n",
      "1\n",
      "1\n",
      "2\n",
      "3\n",
      "5\n",
      "8\n",
      "13\n",
      "21\n",
      "34\n",
      "55\n",
      "89\n",
      "144\n",
      "233\n",
      "377\n",
      "610\n",
      "987\n",
      "1597\n",
      "2584\n",
      "4181\n",
      "6765\n",
      "10946\n",
      "17711\n",
      "28657\n",
      "46368\n",
      "75025\n",
      "121393\n",
      "196418\n",
      "317811\n",
      "514229\n",
      "832040\n",
      "1346269\n",
      "2178309\n",
      "3524578\n",
      "5702887\n",
      "9227465\n",
      "14930352\n",
      "24157817\n",
      "39088169\n",
      "63245986\n",
      "102334155\n",
      "165580141\n",
      "267914296\n",
      "433494437\n",
      "701408733\n",
      "1134903170\n",
      "1836311903\n",
      "2971215073\n",
      "4807526976\n",
      "7778742049\n"
     ]
    }
   ],
   "source": [
    "def fibonacci(n,memo={}):\n",
    "    '''It will take a number n and return n values in the fibonacci series'''\n",
    "    if n<=1:\n",
    "        return n\n",
    "    if n in memo:\n",
    "        return memo[n]\n",
    "    memo[n]=fibonacci(n-1,memo)+fibonacci(n-2,memo)\n",
    "    return memo[n]\n",
    "for i in range(50):\n",
    "    print(fibonacci(i))"
   ]
  },
  {
   "cell_type": "markdown",
   "id": "11e85137",
   "metadata": {},
   "source": [
    "\n",
    "### Assignment 2: Function with Nested Default Arguments\n",
    "\n",
    "\n",
    "Define a function that takes two arguments, a and b, where b is a dictionary with a default value of an empty dictionary. The function should add a new key-value pair to the dictionary and return it. Test the function with different inputs.\n"
   ]
  },
  {
   "cell_type": "code",
   "execution_count": 8,
   "id": "293381d2",
   "metadata": {},
   "outputs": [
    {
     "name": "stdout",
     "output_type": "stream",
     "text": [
      "defaultdict(<class 'int'>, {'Hello': 'World'})\n"
     ]
    }
   ],
   "source": [
    "from collections import defaultdict\n",
    "def add_items(a,b):\n",
    "    b.update(a)\n",
    "    return b\n",
    "b=defaultdict(int)\n",
    "a={\"Hello\":\"World\"}\n",
    "b=add_items(a,b)\n",
    "print(b)"
   ]
  },
  {
   "cell_type": "markdown",
   "id": "e13ca708",
   "metadata": {},
   "source": [
    "\n",
    "### Assignment 3: Function with Variable Keyword Arguments\n",
    "\n",
    "Define a function that takes a variable number of keyword arguments and returns a dictionary containing only those key-value pairs where the value is an integer. Test the function with different inputs.\n"
   ]
  },
  {
   "cell_type": "code",
   "execution_count": 15,
   "id": "55a467dc",
   "metadata": {},
   "outputs": [
    {
     "name": "stdout",
     "output_type": "stream",
     "text": [
      "[{'Hello': 25}, {'LOL': 3000}]\n"
     ]
    }
   ],
   "source": [
    "def return_integer(**kwargs):\n",
    "    dictionary={}\n",
    "\n",
    "    dictionary.update(kwargs)\n",
    "    list=[]\n",
    "    for key,value in dictionary.items():\n",
    "         if type(value)==int:\n",
    "              list.append({key:value})\n",
    "    return list\n",
    "tup=return_integer(hi=\"hello\",Hello=25,speed=\"LOL\",LOL=3000)\n",
    "print(tup)"
   ]
  },
  {
   "cell_type": "markdown",
   "id": "9717a9ab",
   "metadata": {},
   "source": [
    "\n",
    "### Assignment 4: Function with Callback\n",
    "\n",
    "Define a function that takes another function as a callback and a list of integers. The function should apply the callback to each integer in the list and return a new list with the results. Test with different callback functions.\n"
   ]
  },
  {
   "cell_type": "code",
   "execution_count": 18,
   "id": "1d73cd8e",
   "metadata": {},
   "outputs": [
    {
     "name": "stdout",
     "output_type": "stream",
     "text": [
      "[0, 1, 2, 3, 4, 5, 6, 7, 8, 9]\n",
      "[0, 1, 4, 9, 16, 25, 36, 49, 64, 81]\n"
     ]
    }
   ],
   "source": [
    "def callback(fx,list):\n",
    "    new_list=[]\n",
    "    for i in list:\n",
    "        new_list.append(fx(i))\n",
    "    return(new_list)\n",
    "list=[x for x in range(10)]\n",
    "print(list)\n",
    "new_list=callback(lambda x:x**2,list)\n",
    "print(new_list) "
   ]
  },
  {
   "cell_type": "markdown",
   "id": "66997d18",
   "metadata": {},
   "source": [
    "\n",
    "### Assignment 5: Function that Returns a Function\n",
    "\n",
    "Define a function that returns another function. The returned function should take an integer and return its square. Test the returned function with different inputs.\n"
   ]
  },
  {
   "cell_type": "code",
   "execution_count": 19,
   "id": "29c3bd11",
   "metadata": {},
   "outputs": [
    {
     "name": "stdout",
     "output_type": "stream",
     "text": [
      "400\n"
     ]
    }
   ],
   "source": [
    "def function(fx):\n",
    "    return fx(20)\n",
    "\n",
    "def squares(n):\n",
    "    return n**2\n",
    "\n",
    "num=function(squares)\n",
    "print(num)"
   ]
  },
  {
   "cell_type": "markdown",
   "id": "5cb0977b",
   "metadata": {},
   "source": [
    "\n",
    "### Assignment 6: Function with Decorators\n",
    "\n",
    "Define a function that calculates the time taken to execute another function. Apply this decorator to a function that performs a complex calculation. Test the decorated function with different inputs.\n"
   ]
  },
  {
   "cell_type": "code",
   "execution_count": 36,
   "id": "d416e8f1",
   "metadata": {},
   "outputs": [
    {
     "name": "stdout",
     "output_type": "stream",
     "text": [
      ":;;;;;;;;;:\n",
      ";:;;;;;;;:;\n",
      ";;:;;;;;:;;\n",
      ";;;:;;;:;;;\n",
      ";;;;:;:;;;;\n",
      ";;;;;:;;;;;\n",
      ";;;;:;:;;;;\n",
      ";;;:;;;:;;;\n",
      ";;:;;;;;:;;\n",
      ";:;;;;;;;:;\n",
      ":;;;;;;;;;:\n",
      "Time taken = 0.001000 seconds\n"
     ]
    }
   ],
   "source": [
    "import time\n",
    "\n",
    "def time_taken(fx):\n",
    "    def wrapper(n):\n",
    "        start = time.time()  # Record the start time\n",
    "        result = fx(n)       # Calls factorial(n) (the actual factorial function)\n",
    "        end = time.time()    # Record the end time after all recursion\n",
    "        print(f\"Time taken = {end - start:.6f} seconds\")  # Print the total time once\n",
    "        return result        # Return the result from factorial(n)\n",
    "    return wrapper\n",
    "@time_taken\n",
    "def print_pattern(n):\n",
    "    for i in range(n):\n",
    "        for j in range(n):\n",
    "            if i==j or i+j==n-1:\n",
    "                print(\":\",end=\"\")\n",
    "            else:\n",
    "                print(\";\",end=\"\")\n",
    "        print()\n",
    "      # Recursive call\n",
    "\n",
    "  # Call factorial(10) and print the result\n",
    "print_pattern(11)"
   ]
  },
  {
   "cell_type": "markdown",
   "id": "439e8c60",
   "metadata": {},
   "source": [
    "\n",
    "### Assignment 7: Higher-Order Function for Filtering and Mapping\n",
    "\n",
    "Define a higher-order function that takes two functions, a filter function and a map function, along with a list of integers. The higher-order function should first filter the integers using the filter function and then apply the map function to the filtered integers. Test with different filter and map functions.\n"
   ]
  },
  {
   "cell_type": "code",
   "execution_count": 2,
   "id": "9f2f5abc",
   "metadata": {},
   "outputs": [
    {
     "name": "stdout",
     "output_type": "stream",
     "text": [
      "[4, 16, 36, 64, 100, 144, 196, 256, 324]\n"
     ]
    }
   ],
   "source": [
    "def a_function(f1,f2,lst):\n",
    "    new_list=list(filter(f1,lst))\n",
    "    new_list=list(map(f2,new_list))\n",
    "    return new_list\n",
    "llist=[x for x in range(1,20)]\n",
    "result=a_function(lambda x:x%2==0,lambda x:x*x,llist)\n",
    "print(result)"
   ]
  },
  {
   "cell_type": "markdown",
   "id": "798406a1",
   "metadata": {},
   "source": [
    "\n",
    "### Assignment 8: Function Composition\n",
    "\n",
    "Define a function that composes two functions, f and g, such that the result is f(g(x)). Test with different functions f and g.\n"
   ]
  },
  {
   "cell_type": "code",
   "execution_count": 11,
   "id": "def2aee5",
   "metadata": {},
   "outputs": [
    {
     "name": "stdout",
     "output_type": "stream",
     "text": [
      "[1, 4, 9, 16, 25]\n"
     ]
    }
   ],
   "source": [
    "def main():\n",
    "    x=5\n",
    "    def f(f1):\n",
    "        lst=[1,2,3,4,5]\n",
    "        lst=list(map(f1,lst))\n",
    "        return lst\n",
    "    g=lambda x:x**2\n",
    "    return f(g)\n",
    "x=main()\n",
    "print(x)"
   ]
  },
  {
   "cell_type": "markdown",
   "id": "d2877f7e",
   "metadata": {},
   "source": [
    "\n",
    "### Assignment 9: Partial Function Application\n",
    "\n",
    "Use the functools.partial function to create a new function that multiplies its input by 2. Test the new function with different inputs.\n"
   ]
  },
  {
   "cell_type": "markdown",
   "id": "1ce32844",
   "metadata": {},
   "source": [
    "\n",
    "### Assignment 10: Function with Error Handling\n",
    "\n",
    "Define a function that takes a list of integers and returns their average. The function should handle any errors that occur (e.g., empty list) and return None in such cases. Test with different inputs.\n"
   ]
  },
  {
   "cell_type": "markdown",
   "id": "d851c486",
   "metadata": {},
   "source": [
    "\n",
    "### Assignment 11: Function with Generators\n",
    "\n",
    "Define a function that generates an infinite sequence of Fibonacci numbers. Test by printing the first 10 numbers in the sequence.\n"
   ]
  },
  {
   "cell_type": "markdown",
   "id": "0c6a369f",
   "metadata": {},
   "source": [
    "\n",
    "### Assignment 12: Currying\n",
    "\n",
    "Define a curried function that takes three arguments, one at a time, and returns their product. Test the function by providing arguments one at a time.\n"
   ]
  },
  {
   "cell_type": "markdown",
   "id": "f3a7153f",
   "metadata": {},
   "source": [
    "\n",
    "### Assignment 13: Function with Context Manager\n",
    "\n",
    "Define a function that uses a context manager to write a list of integers to a file. The function should handle any errors that occur during file operations. Test with different lists.\n"
   ]
  },
  {
   "cell_type": "markdown",
   "id": "aa811d87",
   "metadata": {},
   "source": [
    "\n",
    "### Assignment 14: Function with Multiple Return Types\n",
    "\n",
    "Define a function that takes a list of mixed data types (integers, strings, and floats) and returns three lists: one containing all the integers, one containing all the strings, and one containing all the floats. Test with different inputs.\n"
   ]
  },
  {
   "cell_type": "markdown",
   "id": "fe1b4dc4",
   "metadata": {},
   "source": [
    "\n",
    "### Assignment 15: Function with State\n",
    "\n",
    "Define a function that maintains state between calls using a mutable default argument. The function should keep track of how many times it has been called. \n",
    "Test by calling the function multiple times."
   ]
  },
  {
   "cell_type": "code",
   "execution_count": null,
   "id": "493aa9bc",
   "metadata": {},
   "outputs": [],
   "source": []
  },
  {
   "cell_type": "code",
   "execution_count": null,
   "metadata": {},
   "outputs": [],
   "source": []
  }
 ],
 "metadata": {
  "kernelspec": {
   "display_name": "Python 3",
   "language": "python",
   "name": "python3"
  },
  "language_info": {
   "codemirror_mode": {
    "name": "ipython",
    "version": 3
   },
   "file_extension": ".py",
   "mimetype": "text/x-python",
   "name": "python",
   "nbconvert_exporter": "python",
   "pygments_lexer": "ipython3",
   "version": "3.10.0"
  }
 },
 "nbformat": 4,
 "nbformat_minor": 5
}
