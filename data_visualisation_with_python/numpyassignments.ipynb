{
 "cells": [
  {
   "cell_type": "markdown",
   "metadata": {},
   "source": [
    "# Module: NumPy Assignments\n",
    "## Lesson: NumPy\n",
    "### Assignment 1: Array Creation and Manipulation\n",
    "\n",
    "1. Create a NumPy array of shape (5, 5) filled with random integers between 1 and 20. Replace all the elements in the third column with 1.\n",
    "2. Create a NumPy array of shape (4, 4) with values from 1 to 16. Replace the diagonal elements with 0.\n"
   ]
  },
  {
   "cell_type": "code",
   "execution_count": 3,
   "id": "8bfc1aa6",
   "metadata": {},
   "outputs": [],
   "source": [
    "import numpy as np\n",
    "import random as rd"
   ]
  },
  {
   "cell_type": "code",
   "execution_count": 17,
   "id": "7b05a581",
   "metadata": {},
   "outputs": [],
   "source": [
    "arr=np.array([[rd.randint(1,20) for _ in range(1,26)]])\n",
    "arr.shape=(5,5)"
   ]
  },
  {
   "cell_type": "code",
   "execution_count": 18,
   "id": "561de529",
   "metadata": {},
   "outputs": [
    {
     "name": "stdout",
     "output_type": "stream",
     "text": [
      "[[13  5 17  8 14]\n",
      " [16 19  7 16  6]\n",
      " [12 13 20 18  3]\n",
      " [ 7 12  9 20 11]\n",
      " [ 7  9  3 10  3]]\n"
     ]
    }
   ],
   "source": [
    "print(arr)"
   ]
  },
  {
   "cell_type": "code",
   "execution_count": 20,
   "id": "ab894706",
   "metadata": {},
   "outputs": [],
   "source": [
    "arr[2]=1"
   ]
  },
  {
   "cell_type": "code",
   "execution_count": 21,
   "id": "3799d0e7",
   "metadata": {},
   "outputs": [
    {
     "name": "stdout",
     "output_type": "stream",
     "text": [
      "[[13  5 17  8 14]\n",
      " [16 19  7 16  6]\n",
      " [ 1  1  1  1  1]\n",
      " [ 7 12  9 20 11]\n",
      " [ 7  9  3 10  3]]\n"
     ]
    }
   ],
   "source": [
    "print(arr)"
   ]
  },
  {
   "cell_type": "code",
   "execution_count": 23,
   "id": "2c6b33a6",
   "metadata": {},
   "outputs": [
    {
     "name": "stdout",
     "output_type": "stream",
     "text": [
      "[[ 1  2  3  4]\n",
      " [ 5  6  7  8]\n",
      " [ 9 10 11 12]\n",
      " [13 14 15 16]]\n"
     ]
    }
   ],
   "source": [
    "arr1=np.array([i for i in range(1,17)])\n",
    "arr1.shape=(4,4)\n",
    "print(arr1)"
   ]
  },
  {
   "cell_type": "code",
   "execution_count": 26,
   "id": "5312eb6c",
   "metadata": {},
   "outputs": [
    {
     "name": "stdout",
     "output_type": "stream",
     "text": [
      "1\n",
      "6\n",
      "11\n",
      "16\n",
      "[[ 0  2  3  4]\n",
      " [ 5  0  7  8]\n",
      " [ 9 10  0 12]\n",
      " [13 14 15  0]]\n"
     ]
    }
   ],
   "source": [
    "for i in range(4):\n",
    "    print(arr1[i][i])\n",
    "    arr1[i][i]=0\n",
    "\n",
    "print(arr1)"
   ]
  },
  {
   "cell_type": "markdown",
   "id": "59ef8558",
   "metadata": {},
   "source": [
    "\n",
    "### Assignment 2: Array Indexing and Slicing\n",
    "\n",
    "1. Create a NumPy array of shape (6, 6) with values from 1 to 36. Extract the sub-array consisting of the 3rd to 5th rows and 2nd to 4th columns.\n",
    "2. Create a NumPy array of shape (5, 5) with random integers. Extract the elements on the border.\n"
   ]
  },
  {
   "cell_type": "code",
   "execution_count": 33,
   "id": "6fd2fa01",
   "metadata": {},
   "outputs": [
    {
     "name": "stdout",
     "output_type": "stream",
     "text": [
      "[[ 1  2  3  4  5  6]\n",
      " [ 7  8  9 10 11 12]\n",
      " [13 14 15 16 17 18]\n",
      " [19 20 21 22 23 24]\n",
      " [25 26 27 28 29 30]\n",
      " [31 32 33 34 35 36]]\n",
      "\n",
      "\n",
      "\n",
      "[[31 32 33 34 35 36]]\n"
     ]
    }
   ],
   "source": [
    "arr=np.array([i for i in range(1,37)])\n",
    "arr.shape=(6,6)\n",
    "print(arr)"
   ]
  },
  {
   "cell_type": "code",
   "execution_count": 48,
   "id": "9cb977c5",
   "metadata": {},
   "outputs": [
    {
     "name": "stdout",
     "output_type": "stream",
     "text": [
      "[[14 15 16]\n",
      " [20 21 22]\n",
      " [26 27 28]]\n"
     ]
    }
   ],
   "source": [
    "print(arr[ 2:5,1:4])"
   ]
  },
  {
   "cell_type": "code",
   "execution_count": 54,
   "id": "33f06361",
   "metadata": {},
   "outputs": [
    {
     "name": "stdout",
     "output_type": "stream",
     "text": [
      "[[55 54 80 93 96]\n",
      " [33 50 54 78 37]\n",
      " [24 66  7 32 61]\n",
      " [ 8 12 16 65 99]\n",
      " [78 34 38  3 93]]\n"
     ]
    }
   ],
   "source": [
    "arr1=np.array([rd.randint(0,100) for _ in range(25)]).reshape(5,5)\n",
    "print(arr1)"
   ]
  },
  {
   "cell_type": "code",
   "execution_count": 66,
   "id": "05150418",
   "metadata": {},
   "outputs": [
    {
     "name": "stdout",
     "output_type": "stream",
     "text": [
      "[55, 54, 80, 93, 96, 33, 37, 24, 61, 8, 99, 78, 34, 38, 3, 93]\n"
     ]
    }
   ],
   "source": [
    "arr2=[]\n",
    "for i in range(5):\n",
    "    for j in range(5):\n",
    "        if i==0 or j==0 or i==4 or j==4:\n",
    "            arr2.append(int(arr1[i][j]))\n",
    "\n",
    "print(arr2)"
   ]
  },
  {
   "cell_type": "markdown",
   "id": "c17f579c",
   "metadata": {},
   "source": [
    "\n",
    "### Assignment 3: Array Operations\n",
    "\n",
    "1. Create two NumPy arrays of shape (3, 4) filled with random integers. Perform element-wise addition, subtraction, multiplication, and division.\n",
    "2. Create a NumPy array of shape (4, 4) with values from 1 to 16. Compute the row-wise and column-wise sum.\n"
   ]
  },
  {
   "cell_type": "code",
   "execution_count": 74,
   "id": "62b71c3a",
   "metadata": {},
   "outputs": [
    {
     "name": "stdout",
     "output_type": "stream",
     "text": [
      "[[20 29 32 72]\n",
      " [42 23 48 65]\n",
      " [26 67 45 67]]\n",
      "\n",
      "[[ 12  -7  24  28]\n",
      " [ 16  -9   2  15]\n",
      " [-24  27  37  31]]\n",
      "\n",
      "[[  64  198  112 1100]\n",
      " [ 377  112  575 1000]\n",
      " [  25  940  164  882]]\n",
      "\n",
      "[[ 4.          0.61111111  7.          2.27272727]\n",
      " [ 2.23076923  0.4375      1.08695652  1.6       ]\n",
      " [ 0.04        2.35       10.25        2.72222222]]\n"
     ]
    }
   ],
   "source": [
    "arr1=np.array([rd.randint(1,50) for _ in range(12)]).reshape(3,4)\n",
    "arr2=np.array([rd.randint(1,25) for _ in range(12)]).reshape(3,4)\n",
    "print(np.add(arr1,arr2))\n",
    "print()\n",
    "print(arr1-arr2)\n",
    "print()\n",
    "print(arr1*arr2)\n",
    "print()\n",
    "print(arr1/arr2)\n",
    "\n"
   ]
  },
  {
   "cell_type": "code",
   "execution_count": 78,
   "id": "e9f86850",
   "metadata": {},
   "outputs": [
    {
     "name": "stdout",
     "output_type": "stream",
     "text": [
      "[[16 11 28 50]\n",
      " [29  7 25 40]\n",
      " [ 1 47 41 49]]\n",
      "[105 101 138] [ 46  65  94 139]\n"
     ]
    }
   ],
   "source": [
    "print(arr1)\n",
    "row_sum=np.sum(arr1,axis=1)\n",
    "col_sum=np.sum(arr1,axis=0)\n",
    "print(row_sum,col_sum)"
   ]
  },
  {
   "cell_type": "markdown",
   "id": "448b0b8d",
   "metadata": {},
   "source": [
    "\n",
    "### Assignment 4: Statistical Operations\n",
    "\n",
    "1. Create a NumPy array of shape (5, 5) filled with random integers. Compute the mean, median, standard deviation, and variance of the array.\n",
    "2. Create a NumPy array of shape (3, 3) with values from 1 to 9. Normalize the array (i.e., scale the values to have a mean of 0 and a standard deviation of 1).\n"
   ]
  },
  {
   "cell_type": "code",
   "execution_count": 89,
   "id": "f6ce4639",
   "metadata": {},
   "outputs": [
    {
     "name": "stdout",
     "output_type": "stream",
     "text": [
      "10.4 12.0 5.67097875150313\n"
     ]
    }
   ],
   "source": [
    "arr=np.array([[rd.randint(1,20) for _ in range(1,26)]])\n",
    "arr.shape=(5,5)\n",
    "mean=arr.mean()\n",
    "median=np.median(arr)\n",
    "sd=arr.std()\n",
    "print(mean,median,sd)"
   ]
  },
  {
   "cell_type": "code",
   "execution_count": 97,
   "id": "24002e64",
   "metadata": {},
   "outputs": [
    {
     "name": "stdout",
     "output_type": "stream",
     "text": [
      "[[-1.54919334 -1.161895   -0.77459667]\n",
      " [-0.38729833  0.          0.38729833]\n",
      " [ 0.77459667  1.161895    1.54919334]]\n",
      "0.0\n",
      "1.0\n"
     ]
    }
   ],
   "source": [
    "arr=np.arange(1,10).reshape(3,3)\n",
    "norm=(arr-arr.mean())/arr.std()\n",
    "print(norm)\n",
    "print(norm.mean())\n",
    "print(norm.std())"
   ]
  },
  {
   "cell_type": "markdown",
   "id": "5e6fb1cd",
   "metadata": {},
   "source": [
    "\n",
    "### Assignment 5: Broadcasting\n",
    "\n",
    "1. Create a NumPy array of shape (3, 3) filled with random integers. Add a 1D array of shape (3,) to each row of the 2D array using broadcasting.\n",
    "2. Create a NumPy array of shape (4, 4) filled with random integers. Subtract a 1D array of shape (4,) from each column of the 2D array using broadcasting.\n"
   ]
  },
  {
   "cell_type": "code",
   "execution_count": 100,
   "id": "27886888",
   "metadata": {},
   "outputs": [
    {
     "name": "stdout",
     "output_type": "stream",
     "text": [
      "[[1 2 3]\n",
      " [4 5 6]\n",
      " [7 8 9]]\n",
      "\n",
      "[[11 22 13]\n",
      " [14 25 16]\n",
      " [17 28 19]]\n"
     ]
    }
   ],
   "source": [
    "arr2=np.array([10,20,10])\n",
    "\n",
    "new_arr=arr+arr2\n",
    "print(arr)\n",
    "print()\n",
    "print(new_arr)"
   ]
  },
  {
   "cell_type": "code",
   "execution_count": 108,
   "id": "bb9558fb",
   "metadata": {},
   "outputs": [
    {
     "name": "stdout",
     "output_type": "stream",
     "text": [
      "[[18 17 24 14]\n",
      " [28 22 11 21]\n",
      " [14 25 30 12]\n",
      " [30 18 10 23]]\n",
      "[10 20 10 30]\n",
      "\n",
      "[[  8  -3  14 -16]\n",
      " [ 18   2   1  -9]\n",
      " [  4   5  20 -18]\n",
      " [ 20  -2   0  -7]]\n"
     ]
    }
   ],
   "source": [
    "arr1=np.array([rd.randint(10,30) for _ in range(1,17)])\n",
    "arr1.shape=(4,4)\n",
    "print(arr1)\n",
    "arr2=np.array([10,20,10,30])\n",
    "print(arr2)\n",
    "print()\n",
    "\n",
    "new_arr=arr1-arr2\n",
    "print(new_arr)"
   ]
  },
  {
   "cell_type": "markdown",
   "id": "1ed704e3",
   "metadata": {},
   "source": [
    "\n",
    "### Assignment 6: Linear Algebra\n",
    "\n",
    "1. Create a NumPy array of shape (3, 3) representing a matrix. Compute its determinant, inverse, and eigenvalues.\n",
    "2. Create two NumPy arrays of shape (2, 3) and (3, 2). Perform matrix multiplication on these arrays.\n"
   ]
  },
  {
   "cell_type": "code",
   "execution_count": 15,
   "id": "e47d0f80",
   "metadata": {},
   "outputs": [
    {
     "name": "stdout",
     "output_type": "stream",
     "text": [
      "determinant=-17.00\n"
     ]
    }
   ],
   "source": [
    "def deterrminant(arr):\n",
    "    return np.linalg.det(arr)\n",
    "arr=np.array([[1,2,1],[6,8,7],[4,5,9]]).reshape(3,3)\n",
    "det=deterrminant(arr)\n",
    "print(f\"determinant={det:.2f}\")"
   ]
  },
  {
   "cell_type": "code",
   "execution_count": 16,
   "id": "f672cd2e",
   "metadata": {},
   "outputs": [
    {
     "name": "stdout",
     "output_type": "stream",
     "text": [
      "[[-2.17647059  0.76470588 -0.35294118]\n",
      " [ 1.52941176 -0.29411765  0.05882353]\n",
      " [ 0.11764706 -0.17647059  0.23529412]]\n"
     ]
    }
   ],
   "source": [
    "def inverse(arr):\n",
    "    return np.linalg.inv(arr)\n",
    "inv=inverse(arr)\n",
    "print(inv)"
   ]
  },
  {
   "cell_type": "code",
   "execution_count": 17,
   "id": "a3d50b04",
   "metadata": {},
   "outputs": [
    {
     "name": "stdout",
     "output_type": "stream",
     "text": [
      "[15.47312295 -0.37819365  2.90507071]\n"
     ]
    }
   ],
   "source": [
    "def eigenvals(arr):\n",
    "    return np.linalg.eigvals(arr)\n",
    "ev=eigenvals(arr)\n",
    "print(ev)"
   ]
  },
  {
   "cell_type": "code",
   "execution_count": 28,
   "id": "e9d43ca0",
   "metadata": {},
   "outputs": [
    {
     "name": "stdout",
     "output_type": "stream",
     "text": [
      "[[8 8 5]\n",
      " [8 1 4]] \n",
      "\n",
      " [[9 2]\n",
      " [2 9]\n",
      " [3 4]]\n",
      "\n",
      "[[103 108]\n",
      " [ 86  41]]\n"
     ]
    }
   ],
   "source": [
    "arr1=np.random.randint(1,10,6).reshape(2,3)\n",
    "arr2=np.random.randint(1,10,6).reshape(3,2)\n",
    "print(arr1,\"\\n\\n\",arr2)\n",
    "mularr=np.matmul(arr1,arr2)\n",
    "print()\n",
    "print(mularr)"
   ]
  },
  {
   "cell_type": "markdown",
   "id": "b8b43d08",
   "metadata": {},
   "source": [
    "\n",
    "### Assignment 7: Advanced Array Manipulation\n",
    "\n",
    "1. Create a NumPy array of shape (3, 3) with values from 1 to 9. Reshape the array to shape (1, 9) and then to shape (9, 1).\n",
    "2. Create a NumPy array of shape (5, 5) filled with random integers. Flatten the array and then reshape it back to (5, 5).\n"
   ]
  },
  {
   "cell_type": "code",
   "execution_count": 33,
   "id": "fcd11931",
   "metadata": {},
   "outputs": [
    {
     "name": "stdout",
     "output_type": "stream",
     "text": [
      "[[4 2 4]\n",
      " [1 8 9]\n",
      " [9 5 2]]\n",
      "\n",
      "[[4 2 4 1 8 9 9 5 2]]\n",
      "\n",
      "[[4]\n",
      " [2]\n",
      " [4]\n",
      " [1]\n",
      " [8]\n",
      " [9]\n",
      " [9]\n",
      " [5]\n",
      " [2]]\n"
     ]
    }
   ],
   "source": [
    "arr=np.random.randint(1,10,9).reshape(3,3)\n",
    "print(arr)\n",
    "\n",
    "arr=arr.reshape(1,9)\n",
    "print()\n",
    "print(arr)\n",
    "\n",
    "arr=arr.reshape(9,1)\n",
    "print()\n",
    "print(arr)"
   ]
  },
  {
   "cell_type": "code",
   "execution_count": 39,
   "id": "15fdb945",
   "metadata": {},
   "outputs": [
    {
     "name": "stdout",
     "output_type": "stream",
     "text": [
      "[[2 6 2 2 2]\n",
      " [8 7 2 6 2]\n",
      " [9 7 8 9 4]\n",
      " [1 3 3 1 8]\n",
      " [4 1 7 6 9]]\n",
      "\n",
      "[2 6 2 2 2 8 7 2 6 2 9 7 8 9 4 1 3 3 1 8 4 1 7 6 9]\n",
      "\n",
      "[[2 6 2 2 2]\n",
      " [8 7 2 6 2]\n",
      " [9 7 8 9 4]\n",
      " [1 3 3 1 8]\n",
      " [4 1 7 6 9]]\n"
     ]
    }
   ],
   "source": [
    "arr=np.random.randint(1,10,25).reshape(5,5)\n",
    "print(arr)\n",
    "print()\n",
    "arr=arr.flatten()\n",
    "print(arr)\n",
    "arr=arr.reshape(5,5)\n",
    "print()\n",
    "print(arr)"
   ]
  },
  {
   "cell_type": "markdown",
   "id": "a0fd644d",
   "metadata": {},
   "source": [
    "\n",
    "### Assignment 8: Fancy Indexing and Boolean Indexing\n",
    "\n",
    "1. Create a NumPy array of shape (5, 5) filled with random integers. Use fancy indexing to extract the elements at the corners of the array.\n",
    "2. Create a NumPy array of shape (4, 4) filled with random integers. Use boolean indexing to set all elements greater than 10 to 10.\n"
   ]
  },
  {
   "cell_type": "code",
   "execution_count": 41,
   "id": "fdd809ce",
   "metadata": {},
   "outputs": [
    {
     "name": "stdout",
     "output_type": "stream",
     "text": [
      "2\n",
      "6\n",
      "2\n",
      "2\n",
      "2\n",
      "8\n",
      "2\n",
      "9\n",
      "4\n",
      "1\n",
      "8\n",
      "4\n",
      "1\n",
      "7\n",
      "6\n",
      "9\n"
     ]
    }
   ],
   "source": [
    "for i in range(5):\n",
    "    for j in range(5):\n",
    "        if i==0 or j==0 or i==4 or j==4:\n",
    "            print(arr[i][j])"
   ]
  },
  {
   "cell_type": "code",
   "execution_count": 45,
   "id": "56c5a4b0",
   "metadata": {},
   "outputs": [
    {
     "name": "stdout",
     "output_type": "stream",
     "text": [
      "[[85  4 63  6]\n",
      " [37 22  6 27]\n",
      " [93 61 78  4]\n",
      " [28 46 77 72]]\n",
      "\n",
      "[85 63 37 22 27 93 61 78 28 46 77 72]\n"
     ]
    }
   ],
   "source": [
    "arr=np.random.randint(1,100,16).reshape(4,4)\n",
    "print(arr)\n",
    "arr=arr[arr>=10]\n",
    "print()\n",
    "print(arr)"
   ]
  },
  {
   "cell_type": "markdown",
   "id": "7cdc949e",
   "metadata": {},
   "source": [
    "\n",
    "### Assignment 9: Structured Arrays\n",
    "\n",
    "1. Create a structured array with fields 'name' (string), 'age' (integer), and 'weight' (float). Add some data and sort the array by age.\n",
    "2. Create a structured array with fields 'x' and 'y' (both integers). Add some data and compute the Euclidean distance between each pair of points.\n"
   ]
  },
  {
   "cell_type": "code",
   "execution_count": 9,
   "metadata": {},
   "outputs": [
    {
     "name": "stdout",
     "output_type": "stream",
     "text": [
      "[['Jnanesh' 19 65.0]\n",
      " ['AK' 20 56.0]\n",
      " ['Kaverappa' 69 300.0]]\n",
      "[['Jnanesh' 19 65.0]\n",
      " ['AK' 20 56.0]\n",
      " ['Kaverappa' 69 300.0]]\n"
     ]
    }
   ],
   "source": [
    "students=np.array([[\"Jnanesh\",19,65.00],[\"AK\",20,56.00],[\"Kaverappa\",69,300.0]], dtype=object)\n",
    "print(students)\n",
    "sorted_students=students[np.argsort(students[:,1].astype(int))]\n",
    "print(sorted_students)"
   ]
  },
  {
   "cell_type": "code",
   "execution_count": null,
   "id": "c34ab0de",
   "metadata": {},
   "outputs": [],
   "source": []
  }
 ],
 "metadata": {
  "kernelspec": {
   "display_name": "Python 3",
   "language": "python",
   "name": "python3"
  },
  "language_info": {
   "codemirror_mode": {
    "name": "ipython",
    "version": 3
   },
   "file_extension": ".py",
   "mimetype": "text/x-python",
   "name": "python",
   "nbconvert_exporter": "python",
   "pygments_lexer": "ipython3",
   "version": "3.10.0"
  }
 },
 "nbformat": 4,
 "nbformat_minor": 5
}
