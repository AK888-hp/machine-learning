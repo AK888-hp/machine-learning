{
 "cells": [
  {
   "cell_type": "code",
   "execution_count": 4,
   "metadata": {},
   "outputs": [
    {
     "name": "stdout",
     "output_type": "stream",
     "text": [
      "14 + 15i\n",
      "6 + -1i\n",
      "30 + 21i\n"
     ]
    }
   ],
   "source": [
    "class ComplexNumber:\n",
    "    def __init__(self,real,img):\n",
    "        self.real=real\n",
    "        self.img=img\n",
    "\n",
    "    def __add__(self,other):\n",
    "        return ComplexNumber(self.real+other.real,self.img+other.img)\n",
    "\n",
    "    def __sub__(self,other):\n",
    "        return ComplexNumber(self.real-other.real,self.img-other.img)\n",
    "\n",
    "    def __mul__(self,other):\n",
    "        return ComplexNumber(self.real*other,self.img*other)\n",
    "\n",
    "    def __repr__(self):\n",
    "        return f\"{self.real} + {self.img}i\"\n",
    "\n",
    "c1=ComplexNumber(10,7)\n",
    "c2=ComplexNumber(4,8)\n",
    "\n",
    "print(c1+c2)\n",
    "print(c1-c2)\n",
    "print(c1*3)\n"
   ]
  },
  {
   "cell_type": "code",
   "execution_count": null,
   "metadata": {},
   "outputs": [],
   "source": []
  }
 ],
 "metadata": {
  "kernelspec": {
   "display_name": "Python 3",
   "language": "python",
   "name": "python3"
  },
  "language_info": {
   "codemirror_mode": {
    "name": "ipython",
    "version": 3
   },
   "file_extension": ".py",
   "mimetype": "text/x-python",
   "name": "python",
   "nbconvert_exporter": "python",
   "pygments_lexer": "ipython3",
   "version": "3.10.0"
  }
 },
 "nbformat": 4,
 "nbformat_minor": 2
}
